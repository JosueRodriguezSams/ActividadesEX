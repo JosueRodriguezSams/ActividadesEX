{
  "nbformat": 4,
  "nbformat_minor": 0,
  "metadata": {
    "colab": {
      "provenance": []
    },
    "kernelspec": {
      "name": "python3",
      "display_name": "Python 3"
    },
    "language_info": {
      "name": "python"
    }
  },
  "cells": [
    {
      "cell_type": "code",
      "execution_count": 1,
      "metadata": {
        "colab": {
          "base_uri": "https://localhost:8080/"
        },
        "id": "D7TrFD0Nwdz_",
        "outputId": "4790cb1b-5760-4f7e-d4c8-f47e44a8e6df"
      },
      "outputs": [
        {
          "output_type": "stream",
          "name": "stdout",
          "text": [
            "Cambio entregado:\n",
            "1 moneda(s) de 500\n",
            "1 moneda(s) de 100\n",
            "2 moneda(s) de 50\n",
            "1 moneda(s) de 10\n"
          ]
        }
      ],
      "source": [
        "def cambio_moneda2(monedas_disponibles, monto):\n",
        "    resultado = []\n",
        "    for valor, cantidad in monedas_disponibles:\n",
        "        if monto == 0:\n",
        "            break\n",
        "\n",
        "        monedas_usar = min(monto // valor, cantidad)\n",
        "        if monedas_usar > 0:\n",
        "            resultado.append((valor, monedas_usar))\n",
        "            monto -= monedas_usar * valor\n",
        "\n",
        "    if monto != 0:\n",
        "        return \"No es posible devolver el cambio exacto\", resultado\n",
        "    return resultado\n",
        "\n",
        "monedas_almacenadas = [(500, 1), (100, 1), (50, 3), (10, 2)]\n",
        "monto = 710\n",
        "\n",
        "monedas_almacenadas.sort(reverse=True, key=lambda x: x[0])\n",
        "\n",
        "\n",
        "cambios = cambio_moneda2(monedas_almacenadas, monto)\n",
        "\n",
        "\n",
        "if isinstance(cambios, str):\n",
        "    print(cambios)\n",
        "else:\n",
        "    print(\"Cambio entregado:\")\n",
        "    for valor, cantidad in cambios:\n",
        "        print(f\"{cantidad} moneda(s) de {valor}\")\n"
      ]
    },
    {
      "cell_type": "code",
      "source": [
        "def maximum_subarray(arr):\n",
        "    max_actual = arr[0]\n",
        "    max_global = arr[0]\n",
        "    start = end = temp_start = 0\n",
        "\n",
        "    for i in range(1, len(arr)):\n",
        "        if arr[i] > max_actual + arr[i]:\n",
        "            max_actual = arr[i]\n",
        "            temp_start = i\n",
        "        else:\n",
        "            max_actual += arr[i]\n",
        "\n",
        "\n",
        "        if max_actual > max_global:\n",
        "            max_global = max_actual\n",
        "            start = temp_start\n",
        "            end = i\n",
        "\n",
        "    return max_global, arr[start:end + 1]\n",
        "\n",
        "\n",
        "suma = 3\n",
        "S = [-2, 1, -2, 4, -1, 2, 1, -5, 4]\n",
        "\n",
        "resultado = maximum_subarray(S)\n",
        "\n",
        "print(f\"Suma máxima: {resultado[0]}\")\n",
        "print(f\"Subarreglo: {resultado[1]}\")\n"
      ],
      "metadata": {
        "colab": {
          "base_uri": "https://localhost:8080/"
        },
        "id": "LJ9_ziEE4m_p",
        "outputId": "56afcfd2-b189-44f4-a379-e2b2da40996d"
      },
      "execution_count": 2,
      "outputs": [
        {
          "output_type": "stream",
          "name": "stdout",
          "text": [
            "Suma máxima: 6\n",
            "Subarreglo: [4, -1, 2, 1]\n"
          ]
        }
      ]
    },
    {
      "cell_type": "code",
      "source": [
        "def is_safe(maze, x, y):\n",
        "    return 0 <= x < len(maze) and 0 <= y < len(maze[0]) and maze[x][y] == 0\n",
        "\n",
        "def solve_maze(maze):\n",
        "    n = len(maze)\n",
        "    path = []\n",
        "\n",
        "    if not solve_maze_util(maze, 0, 0, path):\n",
        "        return \"No hay solución para el laberinto\"\n",
        "    return path\n",
        "\n",
        "def solve_maze_util(maze, x, y, path):\n",
        "    n = len(maze)\n",
        "    if x == n - 1 and y == n - 1:\n",
        "        path.append((x, y))\n",
        "        return True\n",
        "\n",
        "    if is_safe(maze, x, y):\n",
        "        path.append((x, y))\n",
        "\n",
        "        if solve_maze_util(maze, x, y + 1, path):\n",
        "            return True\n",
        "\n",
        "        if solve_maze_util(maze, x + 1, y, path):\n",
        "            return True\n",
        "\n",
        "        path.pop()\n",
        "\n",
        "    return False\n",
        "\n",
        "maze = [\n",
        "    [0, 0, 0, 0],\n",
        "    [1, 0, 1, 0],\n",
        "    [1, 0, 1, 1],\n",
        "    [0, 0, 0, 0],\n",
        "]\n",
        "\n",
        "solucion = solve_maze(maze)\n",
        "\n",
        "if isinstance(solucion, str):\n",
        "    print(solucion)\n",
        "else:\n",
        "    print(\"Camino recorrido por el ratón:\")\n",
        "    print(solucion)\n"
      ],
      "metadata": {
        "colab": {
          "base_uri": "https://localhost:8080/"
        },
        "id": "jjX3MQGt7PYZ",
        "outputId": "eee364d6-7c24-48a5-af68-d65e05037bf4"
      },
      "execution_count": 4,
      "outputs": [
        {
          "output_type": "stream",
          "name": "stdout",
          "text": [
            "Camino recorrido por el ratón:\n",
            "[(0, 0), (0, 1), (1, 1), (2, 1), (3, 1), (3, 2), (3, 3)]\n"
          ]
        }
      ]
    }
  ]
}