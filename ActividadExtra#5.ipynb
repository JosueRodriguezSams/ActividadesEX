{
  "nbformat": 4,
  "nbformat_minor": 0,
  "metadata": {
    "colab": {
      "provenance": []
    },
    "kernelspec": {
      "name": "python3",
      "display_name": "Python 3"
    },
    "language_info": {
      "name": "python"
    }
  },
  "cells": [
    {
      "cell_type": "markdown",
      "source": [
        "Estudiar el Big O de:\n",
        "\n",
        "Busqueda Binaria:\n",
        "\n",
        "Caso mejor O(1): El elemento esta en medio.\n",
        "\n",
        "Caso promedio y peor O(log n):\n",
        "\n",
        "Divisiones repetidas hasta encontrar el elemento o concluir que no está.\n",
        "\n",
        "Bubble sort:\n",
        "\n",
        "Caso mejor O(n): La lista está ordenada, con optimización para detectar esto.\n",
        "\n",
        "Caso promedio y peor O(n^2): Compara e intercambia en cada iteración.\n",
        "\n",
        "Selection sort:\n",
        "\n",
        "Caso mejor, promedio y peor O(n^2): Requiere n-1 iteracoines de búqueda, independiente de la ordenación inicial.\n",
        "\n",
        "Insertion sort:\n",
        "\n",
        "Caso mejor O(n): La lista ya está ordenada, no requiere intercambios.\n",
        "\n",
        "Caso promedio y peor O(n^2): requiere desplazar elementos repetidamente para insertar.\n",
        "\n",
        "Merge sort:\n",
        "\n",
        "Caso mejor, promedio y peor O(n log n): La división en mitades y la combinación toman tiempo logaritmico y lineal respectivamente.\n",
        "\n",
        "Quick sort:\n",
        "\n",
        "Caso mejor y promedio O(n log n): sublistas balanceadas.\n",
        "\n",
        "Caso peor O(n^2): Sublistas altamente balanceadas, como en una lista ya ordenada con mal pivote."
      ],
      "metadata": {
        "id": "O8AG1ddhg-jI"
      }
    }
  ]
}