{
  "nbformat": 4,
  "nbformat_minor": 0,
  "metadata": {
    "colab": {
      "provenance": []
    },
    "kernelspec": {
      "name": "python3",
      "display_name": "Python 3"
    },
    "language_info": {
      "name": "python"
    }
  },
  "cells": [
    {
      "cell_type": "code",
      "execution_count": 8,
      "metadata": {
        "colab": {
          "base_uri": "https://localhost:8080/"
        },
        "id": "KXErNUumXbp8",
        "outputId": "32a2a8e2-8988-4bd2-f7d4-c92cfb4395fa"
      },
      "outputs": [
        {
          "output_type": "stream",
          "name": "stdout",
          "text": [
            "Valores internos de Deque: []\n",
            "Valores internos de Deque: [12, 3, 4]\n",
            "Valores internos de Deque: [20, 15, 12, 3, 4, 1, 7]\n",
            "El número eliminado del inicio fue: 20\n",
            "El número eliminado del final fue: 7\n",
            "Valores internos de Deque: [15, 12, 3, 4, 1]\n"
          ]
        }
      ],
      "source": [
        "# Ejercicio!!!!\n",
        "# Aplicación en la vida real\n",
        "\n",
        "class Deque:\n",
        "    def __init__(self):\n",
        "        self.__deque=[]\n",
        "\n",
        "    def __str__(self):\n",
        "        return f'Valores internos de Deque: {self.__deque}'\n",
        "\n",
        "    def add_first(self, item):\n",
        "#        \"Agregar un elemento a la parte inicial del deque: \"\n",
        "        self.__deque.insert(0, item)\n",
        "    def remove_first(self):\n",
        "#        \"Remover y retornar un elemento a la parte inicial del deque (cola): \"\n",
        "        return None if len (self.__deque) == 0 else self.__deque.pop(0)\n",
        "    def add_last(self, item):\n",
        "#        \"Agregar un 'elemento a la parte final del deque (cola/pila): \"\n",
        "        self.__deque.append(item)\n",
        "    def remove_last(self):\n",
        "#        \"Remover y retornar un elemento a la parte final del deque (pila): \"\n",
        "        return None if len(self.__deque) == 0 else self.__deque.pop()\n",
        "\n",
        "#Implementación del código\n",
        "D1 = Deque()\n",
        "print (D1)\n",
        "\n",
        "D1.add_last(12)\n",
        "D1.add_last(3) #Se agregan los elementos iniciales\n",
        "D1.add_last(4)\n",
        "\n",
        "print (D1)\n",
        "\n",
        "D1.add_first(15)\n",
        "D1.add_first(20)\n",
        "D1.add_last(1) #Se agregan nuevos elementos, al inicio y al final\n",
        "D1.add_last(7)\n",
        "\n",
        "print (D1)\n",
        "\n",
        "print (\"El número eliminado del inicio fue:\",D1.remove_first()) #Se elimina un valor del inicio y otro del final\n",
        "print (\"El número eliminado del final fue:\", D1.remove_last())\n",
        "\n",
        "print(D1)"
      ]
    }
  ]
}