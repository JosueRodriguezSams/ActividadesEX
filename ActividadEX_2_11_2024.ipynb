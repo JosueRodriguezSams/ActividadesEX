{
  "nbformat": 4,
  "nbformat_minor": 0,
  "metadata": {
    "colab": {
      "provenance": []
    },
    "kernelspec": {
      "name": "python3",
      "display_name": "Python 3"
    },
    "language_info": {
      "name": "python"
    }
  },
  "cells": [
    {
      "cell_type": "code",
      "execution_count": null,
      "metadata": {
        "id": "RfZs4798k3nm"
      },
      "outputs": [],
      "source": [
        "class Persona:\n",
        "  def __init__(self, name):\n",
        "    self.__name = name\n",
        "  def get_name(self):\n",
        "    return self._name\n",
        "  def set_name(self, name):\n",
        "    self._name = name\n",
        "\n",
        "class Director(Persona):\n",
        "  def __init__(self, name, position):\n",
        "    super().__init__(name)\n",
        "    self.__position = position\n",
        "  def get_position(self):\n",
        "    return self.__position\n",
        "  def set_position(self, position):\n",
        "    self.__position = position\n",
        "  pass\n",
        "\n",
        "class Empleado(Persona):\n",
        "  def__init__(self,name,id):\n",
        "    super().__init__(name)\n",
        "    self.__id = id\n",
        "  def get_id(self):\n",
        "    return self.__id\n",
        "  def set_id(self,id):\n",
        "    self.__id = id\n",
        "  pass\n",
        "\n",
        "director = Director(\"Jose\", \"Director general\")\n",
        "print(\"Nombre del director: \",director.get_name())\n",
        "print(\"Posición del director: \",director.get_position())\n",
        "\n",
        "empleado = Empleado(\"Antonio\", \"13579\")\n",
        "print(\"Nombre del empleado: \",empleado.getname())\n",
        "print(\"Id del empleado: \",empleado.get_id())\n"
      ]
    }
  ]
}